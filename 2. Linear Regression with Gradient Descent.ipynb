{
 "cells": [
  {
   "cell_type": "markdown",
   "metadata": {},
   "source": [
    "# 2. Linear Regression with Gradient Descent"
   ]
  },
  {
   "cell_type": "code",
   "execution_count": 142,
   "metadata": {},
   "outputs": [
    {
     "data": {
      "text/html": [
       "<div>\n",
       "<style>\n",
       "    .dataframe thead tr:only-child th {\n",
       "        text-align: right;\n",
       "    }\n",
       "\n",
       "    .dataframe thead th {\n",
       "        text-align: left;\n",
       "    }\n",
       "\n",
       "    .dataframe tbody tr th {\n",
       "        vertical-align: top;\n",
       "    }\n",
       "</style>\n",
       "<table border=\"1\" class=\"dataframe\">\n",
       "  <thead>\n",
       "    <tr style=\"text-align: right;\">\n",
       "      <th></th>\n",
       "      <th>x1</th>\n",
       "      <th>x2</th>\n",
       "      <th>y</th>\n",
       "    </tr>\n",
       "  </thead>\n",
       "  <tbody>\n",
       "    <tr>\n",
       "      <th>0</th>\n",
       "      <td>0.217015</td>\n",
       "      <td>2.828637</td>\n",
       "      <td>16.123318</td>\n",
       "    </tr>\n",
       "    <tr>\n",
       "      <th>1</th>\n",
       "      <td>-0.194315</td>\n",
       "      <td>0.668071</td>\n",
       "      <td>5.084512</td>\n",
       "    </tr>\n",
       "    <tr>\n",
       "      <th>2</th>\n",
       "      <td>1.225611</td>\n",
       "      <td>0.196368</td>\n",
       "      <td>7.505609</td>\n",
       "    </tr>\n",
       "    <tr>\n",
       "      <th>3</th>\n",
       "      <td>0.596539</td>\n",
       "      <td>2.841524</td>\n",
       "      <td>17.395783</td>\n",
       "    </tr>\n",
       "  </tbody>\n",
       "</table>\n",
       "</div>"
      ],
      "text/plain": [
       "         x1        x2          y\n",
       "0  0.217015  2.828637  16.123318\n",
       "1 -0.194315  0.668071   5.084512\n",
       "2  1.225611  0.196368   7.505609\n",
       "3  0.596539  2.841524  17.395783"
      ]
     },
     "execution_count": 142,
     "metadata": {},
     "output_type": "execute_result"
    }
   ],
   "source": [
    "import sys\n",
    "\n",
    "# import thirdy party libraries\n",
    "import numpy as np\n",
    "import pandas as pd\n",
    "\n",
    "total_pts = 4\n",
    "\n",
    "# define our function\n",
    "def f(x1, x2):\n",
    "    y = 2.7 + 3.2 * x1 + 4.5 * x2\n",
    "    return y\n",
    "\n",
    "# generate random values with mean 0\n",
    "x1_values = np.random.uniform (low=-2, high=2, size=total_pts)\n",
    "x2_values = np.random.uniform (low=-3, high=3, size=total_pts)\n",
    "\n",
    "# create simulated data i.e., get f(x) values for our random points\n",
    "output_values = f(x1_values, x2_values)\n",
    "\n",
    "test_data_naive = pd.DataFrame({'x1':x1_values, 'x2':x2_values, 'y':output_values})\n",
    "\n",
    "# display first five rows (entries) from the data set\n",
    "test_data_naive [:5]"
   ]
  },
  {
   "cell_type": "code",
   "execution_count": 160,
   "metadata": {},
   "outputs": [
    {
     "ename": "SyntaxError",
     "evalue": "invalid syntax (<ipython-input-160-55703d1449b7>, line 21)",
     "output_type": "error",
     "traceback": [
      "\u001b[1;36m  File \u001b[1;32m\"<ipython-input-160-55703d1449b7>\"\u001b[1;36m, line \u001b[1;32m21\u001b[0m\n\u001b[1;33m    print (x[[:]])\u001b[0m\n\u001b[1;37m              ^\u001b[0m\n\u001b[1;31mSyntaxError\u001b[0m\u001b[1;31m:\u001b[0m invalid syntax\n"
     ]
    }
   ],
   "source": [
    "errors = np.random.normal (loc=0.0, scale=1.0, size=total_pts)\n",
    "\n",
    "def h (theta_vec, x_vec):\n",
    "    return (np.dot(theta_vec.transpose(), x_vec))\n",
    "\n",
    "# add random noise to function\n",
    "simul_output = f(x1_values, x2_values) + errors\n",
    "\n",
    "test_data_real = pd.DataFrame({'x1':x1_values, 'x2':x2_values, 'y':simul_output})\n",
    "\n",
    "t0 = 1.0\n",
    "t1 = 1.0\n",
    "t2 = 1.0\n",
    "learn = 0.01\n",
    "\n",
    "theta_vec = np.reshape([t0, t1, t2], (3,1))#[pd.DataFrame([t0, t1, t2])]\n",
    "print (theta_vec.shape)\n",
    "\n",
    "x_all = [np.reshape([1.0, x1, x2], (3,1)) for x1, x2 in zip(x1_values, x2_values)]\n",
    "print (x_all)\n",
    "print (x[[:]])\n",
    "print (type(simul_output))"
   ]
  },
  {
   "cell_type": "code",
   "execution_count": 145,
   "metadata": {
    "scrolled": true
   },
   "outputs": [
    {
     "name": "stdout",
     "output_type": "stream",
     "text": [
      "4.04565292668\n",
      "<class 'numpy.ndarray'>\n"
     ]
    },
    {
     "ename": "TypeError",
     "evalue": "list indices must be integers or slices, not tuple",
     "output_type": "error",
     "traceback": [
      "\u001b[1;31m---------------------------------------------------------------------------\u001b[0m",
      "\u001b[1;31mTypeError\u001b[0m                                 Traceback (most recent call last)",
      "\u001b[1;32m<ipython-input-145-5505fbcafee8>\u001b[0m in \u001b[0;36m<module>\u001b[1;34m()\u001b[0m\n\u001b[0;32m     13\u001b[0m \u001b[1;33m\u001b[0m\u001b[0m\n\u001b[0;32m     14\u001b[0m \u001b[1;32mfor\u001b[0m \u001b[0mj\u001b[0m \u001b[1;32min\u001b[0m \u001b[0mrange\u001b[0m \u001b[1;33m(\u001b[0m\u001b[1;36m3\u001b[0m\u001b[1;33m)\u001b[0m\u001b[1;33m:\u001b[0m\u001b[1;33m\u001b[0m\u001b[0m\n\u001b[1;32m---> 15\u001b[1;33m     \u001b[0mprint\u001b[0m \u001b[1;33m(\u001b[0m\u001b[0mx_all\u001b[0m\u001b[1;33m[\u001b[0m\u001b[1;33m:\u001b[0m\u001b[1;33m,\u001b[0m\u001b[0mj\u001b[0m\u001b[1;33m]\u001b[0m\u001b[1;33m)\u001b[0m\u001b[1;33m\u001b[0m\u001b[0m\n\u001b[0m\u001b[0;32m     16\u001b[0m     \u001b[1;31m#print (x_all[:][j])\u001b[0m\u001b[1;33m\u001b[0m\u001b[1;33m\u001b[0m\u001b[0m\n\u001b[0;32m     17\u001b[0m     \u001b[1;31m#print (x_all[:][j].shape)\u001b[0m\u001b[1;33m\u001b[0m\u001b[1;33m\u001b[0m\u001b[0m\n",
      "\u001b[1;31mTypeError\u001b[0m: list indices must be integers or slices, not tuple"
     ]
    }
   ],
   "source": [
    "in_out = zip (x_all, simul_output)\n",
    "\n",
    "in_out = list(in_out)\n",
    "\n",
    "#print (type(in_out))\n",
    "\n",
    "print (h(theta_vec, x_all[0])[0,0])\n",
    "print (type(h(theta_vec, x_all[0])))\n",
    "\n",
    "#print (len(x1_values))\n",
    "\n",
    "#print (in_out[0][0][1])\n",
    "\n",
    "for j in range (3):\n",
    "    print (x_all[:,j])\n",
    "    #print (x_all[:][j])\n",
    "    #print (x_all[:][j].shape)\n",
    "\n",
    "def update_theta (learn, theta_vec):\n",
    "    for j in range (len(theta_vec)):\n",
    "        diff = [(yi - h (theta_vec, xi)) for yi, xi \n",
    "                in zip (simul_output, x_all)]\n",
    "        print (diff[:3])\n",
    "        print (diff.shape)\n",
    "        w_diff = [np.dot(diffj.transpose(), xj) for diffj, xj in zip(diff, x_all[:][j]) ]\n",
    "#        diff = [(in_out[i][1] - h(theta_vec, in_out[i][0])[0,0])*in_out[i][0][j] for i in range (total_pts)]\n",
    "    #    print (diff)\n",
    "#        print (theta_vec[j])\n",
    "        #print (diff)\n",
    "        #print (sum(diff))\n",
    "        theta_vec[j] = theta_vec[j] + learn * sum(w_diff)\n",
    "    return (theta_vec)\n",
    "#    diff = [(yi - hi)*xi for yi, hi, xi in zip (in_out[:][1], h(theta_vec, in_out[:][0])[0,0], in_out[:][0][j])]\n",
    "\n",
    "#update_theta (total_pts,learn, theta_vec)\n",
    "\n",
    "#sys.exit()\n",
    "\n",
    "for epoch in range (200):\n",
    "    theta_vec = update_theta (learn, theta_vec)\n",
    "\n",
    "print (theta_vec)\n",
    "#    print ((in_out[0][1] - h(theta_vec, in_out[0][0])[0,0])*in_out[0][0][1])\n",
    "#    print (diff)"
   ]
  },
  {
   "cell_type": "code",
   "execution_count": null,
   "metadata": {
    "collapsed": true
   },
   "outputs": [],
   "source": []
  }
 ],
 "metadata": {
  "kernelspec": {
   "display_name": "Python 3",
   "language": "python",
   "name": "python3"
  },
  "language_info": {
   "codemirror_mode": {
    "name": "ipython",
    "version": 3
   },
   "file_extension": ".py",
   "mimetype": "text/x-python",
   "name": "python",
   "nbconvert_exporter": "python",
   "pygments_lexer": "ipython3",
   "version": "3.6.2"
  }
 },
 "nbformat": 4,
 "nbformat_minor": 2
}
