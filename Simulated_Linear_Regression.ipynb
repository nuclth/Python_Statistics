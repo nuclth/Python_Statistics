{
 "cells": [
  {
   "cell_type": "markdown",
   "metadata": {},
   "source": [
    "# Simulated Linear Regression"
   ]
  },
  {
   "cell_type": "markdown",
   "metadata": {},
   "source": [
    "In this notebook, I showcase how to do a simple linear regression on a simulated data set. The idea is that we know the underlying function, create some test data from it, and then can extract the parameters for the original function from the test data.\n",
    "\n",
    "## Constructing Simulated Data\n",
    "\n",
    "For this demonstration, we choose the linear function, \n",
    "\n",
    "$$f(x) = 2 + 3x \\ ,$$ \n",
    "\n",
    "which will be used to create some simulated data. To create the data set we import numpy and pandas, generate 100 random input points from a uniform distribution between $[-2,2)$, and then find the function's value for each point:"
   ]
  },
  {
   "cell_type": "code",
   "execution_count": 76,
   "metadata": {},
   "outputs": [
    {
     "data": {
      "text/html": [
       "<div>\n",
       "<style>\n",
       "    .dataframe thead tr:only-child th {\n",
       "        text-align: right;\n",
       "    }\n",
       "\n",
       "    .dataframe thead th {\n",
       "        text-align: left;\n",
       "    }\n",
       "\n",
       "    .dataframe tbody tr th {\n",
       "        vertical-align: top;\n",
       "    }\n",
       "</style>\n",
       "<table border=\"1\" class=\"dataframe\">\n",
       "  <thead>\n",
       "    <tr style=\"text-align: right;\">\n",
       "      <th></th>\n",
       "      <th>input</th>\n",
       "      <th>output</th>\n",
       "    </tr>\n",
       "  </thead>\n",
       "  <tbody>\n",
       "    <tr>\n",
       "      <th>0</th>\n",
       "      <td>0.136954</td>\n",
       "      <td>2.410862</td>\n",
       "    </tr>\n",
       "    <tr>\n",
       "      <th>1</th>\n",
       "      <td>-0.019569</td>\n",
       "      <td>1.941293</td>\n",
       "    </tr>\n",
       "    <tr>\n",
       "      <th>2</th>\n",
       "      <td>-1.851406</td>\n",
       "      <td>-3.554217</td>\n",
       "    </tr>\n",
       "    <tr>\n",
       "      <th>3</th>\n",
       "      <td>-1.209231</td>\n",
       "      <td>-1.627693</td>\n",
       "    </tr>\n",
       "    <tr>\n",
       "      <th>4</th>\n",
       "      <td>1.632492</td>\n",
       "      <td>6.897476</td>\n",
       "    </tr>\n",
       "  </tbody>\n",
       "</table>\n",
       "</div>"
      ],
      "text/plain": [
       "      input    output\n",
       "0  0.136954  2.410862\n",
       "1 -0.019569  1.941293\n",
       "2 -1.851406 -3.554217\n",
       "3 -1.209231 -1.627693\n",
       "4  1.632492  6.897476"
      ]
     },
     "execution_count": 76,
     "metadata": {},
     "output_type": "execute_result"
    }
   ],
   "source": [
    "import numpy, pandas\n",
    "\n",
    "x_values = numpy.random.uniform (low=-2, high=2, size=100)\n",
    "\n",
    "output_values = 2 + 3 * x_values\n",
    "\n",
    "test_data_naive = pandas.DataFrame({'input':x_values, 'output':output_values})\n",
    "\n",
    "## display first five entries from the data set\n",
    "test_data_naive [:5]"
   ]
  },
  {
   "cell_type": "markdown",
   "metadata": {},
   "source": [
    "However just using these output values as our simulated data won't generate something instructive. Plotting the 100 values in a scatter and our underlying function as a red line, "
   ]
  },
  {
   "cell_type": "code",
   "execution_count": 90,
   "metadata": {},
   "outputs": [
    {
     "data": {
      "image/png": "[encoded data removed]",
      "text/plain": [
       "<matplotlib.figure.Figure at 0x7f25ca0b36d0>"
      ]
     },
     "metadata": {},
     "output_type": "display_data"
    }
   ],
   "source": [
    "import matplotlib.pyplot as plt\n",
    "\n",
    "def f(x):\n",
    "    y = 2 + 3 * x\n",
    "    return y\n",
    "\n",
    "x_plot = numpy.arange(-2., 2, 0.01)\n",
    "\n",
    "test_data_naive.plot(x='input', y='output', kind='scatter')\n",
    "plt.plot(x_plot, f(x_plot), 'r', linewidth=2)\n",
    "plt.show()"
   ]
  },
  {
   "cell_type": "markdown",
   "metadata": {},
   "source": [
    "we see that we haven't masked that these values come from a linear function. To make something more realistic that one might actually encounter in everyday life, we need to add some random noise $\\epsilon$, \n",
    "\n",
    "$$f(x)_{\\text{ real}} = 2 + 3x + \\epsilon \\ .$$\n",
    "\n",
    "To do this, let's generate 100 random values from a normal (Gaussian) distribution to get $\\epsilon$ and plot the result:"
   ]
  },
  {
   "cell_type": "code",
   "execution_count": 84,
   "metadata": {},
   "outputs": [
    {
     "data": {
      "image/png": "[encoded data removed]",
      "text/plain": [
       "<matplotlib.figure.Figure at 0x7f25ca4965d0>"
      ]
     },
     "metadata": {},
     "output_type": "display_data"
    }
   ],
   "source": [
    "errors = numpy.random.normal (loc=0.0, scale=1.0, size=100)\n",
    "\n",
    "simul_output = 2 + 3 * x_values + errors\n",
    "\n",
    "test_data_real = pandas.DataFrame({\"input\":x_values, \"output\":simul_output})\n",
    "\n",
    "test_data_real.plot(x='input', y='output', kind='scatter')\n",
    "plt.plot(x_plot, f(x_plot), 'r', linewidth=2)\n",
    "plt.show()"
   ]
  },
  {
   "cell_type": "markdown",
   "metadata": {},
   "source": [
    "Much better! \n",
    "\n",
    "## Performing Linear Regression\n",
    "\n",
    "Suppose we are now given this dataset of blue points (meaning a dataframe holding x_values and simul_output) and want to model it. Looking at it in a plot like above (and pretending we don't see the red line), we think that it could be well modelled by linear regression, that is,\n",
    "\n",
    "$$y(x) = b_0 + b_1 x \\ ,$$\n",
    "\n",
    "where $y(x)$ is our prediction for a given input $x$ with $b_0$ and $b_1$ being our two parametric variables (y-intercept and slope respectively). The formulas for these two quantities are given by,\n",
    "\n",
    "$$b_0 = \\bar{y} - b_1 \\bar{x} \\ ,$$\n",
    "\n",
    "$$b_1 = \\frac{\\sum_{i=1}^n (x_i - \\bar{x}) (y_i - \\bar{y})}{\\sum_{j=1}^n (x_j - \\bar{x})^2} \\ , $$\n",
    "\n",
    "where $n$ is our total number of points (here 100) and $\\bar{y}$ and $\\bar{x}$ are our mean values for the simulated_data and x_values array respectively,\n",
    "\n",
    "$$\\bar{x} = \\frac{1}{n} \\sum_{i=1}^n x_i \\ ,$$\n",
    "\n",
    "$$\\bar{y} = \\frac{1}{n} \\sum_{i=1}^n y_i \\ ,$$"
   ]
  },
  {
   "cell_type": "code",
   "execution_count": 87,
   "metadata": {},
   "outputs": [
    {
     "name": "stdout",
     "output_type": "stream",
     "text": [
      "x mean is -0.115472\n",
      "y mean is 1.612258\n"
     ]
    }
   ],
   "source": [
    "xmean = sum(x_values) / x_values.size\n",
    "ymean = sum(simul_output) / simul_output.size\n",
    "print ('x mean is %f' % xmean)\n",
    "print ('y mean is %f' % ymean)"
   ]
  },
  {
   "cell_type": "markdown",
   "metadata": {},
   "source": [
    "\n",
    "Our $\\bar{x}$ is close to zero as it should be expected given that we are drawing from a uniform distribution on the range $[-2,2)$. Consequently our $\\bar{y}$ should then be in the vicinity of 2 which it is. Now we can go ahead and construct the two parameters in our fit:"
   ]
  },
  {
   "cell_type": "code",
   "execution_count": 88,
   "metadata": {},
   "outputs": [
    {
     "name": "stdout",
     "output_type": "stream",
     "text": [
      "predicted b0 is 1.951502\n",
      "predicted b1 is 2.937889\n"
     ]
    }
   ],
   "source": [
    "b1_num = sum ((x_values - xmean) * (simul_output - ymean)) \n",
    "b1_den = sum ((x_values - xmean)**2)\n",
    "\n",
    "b1 = b1_num / b1_den\n",
    "b0 = ymean - b1 * xmean\n",
    "\n",
    "print ('predicted b0 is %f' % b0)\n",
    "print ('predicted b1 is %f' % b1)"
   ]
  },
  {
   "cell_type": "markdown",
   "metadata": {},
   "source": [
    "The predicted values of $b_0$ and $b_1$ then define our linear fit. As can be seen, they are pretty close to the true values (2 and 3 respectively). Plotting our prediction as a green line, we see that it does a very good job of matching the underlying linear function."
   ]
  },
  {
   "cell_type": "code",
   "execution_count": 89,
   "metadata": {},
   "outputs": [
    {
     "data": {
      "image/png": "[encoded data removed]",
      "text/plain": [
       "<matplotlib.figure.Figure at 0x7f25ca6e1a50>"
      ]
     },
     "metadata": {},
     "output_type": "display_data"
    }
   ],
   "source": [
    "def prediction (x):\n",
    "    y = b0 + b1 * x\n",
    "    return y\n",
    "\n",
    "test_data_real.plot(x='input', y='output', kind='scatter')\n",
    "plt.plot(x_plot, f(x_plot), 'r', linewidth=2)\n",
    "plt.plot(x_plot, prediction(x_plot), 'g', linewidth=2)\n",
    "plt.show()"
   ]
  }
 ],
 "metadata": {
  "kernelspec": {
   "display_name": "Python 3",
   "language": "python",
   "name": "python3"
  },
  "language_info": {
   "codemirror_mode": {
    "name": "ipython",
    "version": 2
   },
   "file_extension": ".py",
   "mimetype": "text/x-python",
   "name": "python",
   "nbconvert_exporter": "python",
   "pygments_lexer": "ipython2",
   "version": "2.7.12"
  }
 },
 "nbformat": 4,
 "nbformat_minor": 2
}
