{
 "cells": [
  {
   "cell_type": "markdown",
   "metadata": {},
   "source": [
    "# Linear Regression"
   ]
  },
  {
   "cell_type": "markdown",
   "metadata": {},
   "source": [
    "In this notebook, I showcase how to do a simple linear regression on a simulated data set. The idea is that we have some underlying linear function,\n",
    "\n",
    "$$f(x) = 2 + 3x \\ ,$$\n",
    "\n",
    "which we will use to create some simulated data. To create this data, we first import numpy and generate 100 random points from a uniform distribution between $$[-2,2)$$:"
   ]
  },
  {
   "cell_type": "code",
   "execution_count": 2,
   "metadata": {},
   "outputs": [
    {
     "data": {
      "text/plain": [
       "array([ 0.19400221, -1.8272468 , -0.815422  ,  1.88685038, -0.44190032,\n",
       "       -1.4877507 , -0.42341515, -1.71156156, -0.09844605,  1.96696142,\n",
       "       -0.31873922, -0.55701425, -1.66991682,  1.57086108, -1.79824542,\n",
       "        0.76335304, -1.76323042, -0.92306553,  1.90733913, -1.53621744,\n",
       "        1.27283491, -0.00271588, -0.07329207,  0.06038414, -0.32478827,\n",
       "        1.74419069, -1.86179761, -1.6175619 , -0.91153141,  1.52982934,\n",
       "       -0.93211017,  1.22049813,  0.99897249,  0.67908176, -0.22191142,\n",
       "        0.85400956,  0.72622715, -0.58956425,  0.52953962, -0.81513454,\n",
       "       -0.88281033,  1.85167187, -1.1040552 , -0.75101835, -0.02133216,\n",
       "        0.54560405, -1.63127041,  1.95434498, -0.39933391, -0.65440774,\n",
       "        0.53570984,  0.71928763, -0.59916747, -0.45649931, -0.77842147,\n",
       "        1.03154181, -1.53398104,  0.18549824,  0.63504435, -0.31823978,\n",
       "        0.53687862, -1.54757997, -0.57135264,  1.16616721, -1.38281156,\n",
       "        0.23826593, -0.86293023,  0.50386557, -0.60741641,  1.50335012,\n",
       "        1.70796483,  0.38973781,  0.01571164, -1.35601816, -1.21682109,\n",
       "        0.08918849, -1.30083108,  1.08460327,  1.07255316, -1.46171938,\n",
       "       -1.57889008,  0.28615471,  0.50226071, -0.88992209, -1.16338615,\n",
       "        1.09980268,  1.32790518,  0.85192801,  0.90435306, -0.24508901,\n",
       "        1.88937701,  0.45218653, -1.28332412,  0.13586559,  1.60458113,\n",
       "        1.21161675,  0.4978117 ,  0.78330143, -1.09418395, -0.8077843 ])"
      ]
     },
     "execution_count": 2,
     "metadata": {},
     "output_type": "execute_result"
    }
   ],
   "source": [
    "import numpy\n",
    "\n",
    "x_values = numpy.random.uniform (low=-2, high=2, size=100)\n",
    "\n",
    "x_values"
   ]
  },
  {
   "cell_type": "markdown",
   "metadata": {},
   "source": [
    "These x values will then be fed into our function $$f(x)$$. However just inputting these valus won't generate a realistic data set. To make something more realistic, we need to add some random noise $$\\epsilon$$, \n",
    "\n",
    "$$f(x)_{\\text{realistic}} = 2 + 3x + \\epsilon$$\n",
    "\n",
    "To do this, let's generate 100 random values from a normal (Gaussian) distribution:"
   ]
  },
  {
   "cell_type": "code",
   "execution_count": 11,
   "metadata": {},
   "outputs": [
    {
     "data": {
      "text/plain": [
       "array([-0.51412949, -1.15092283, -0.87341117,  0.5145388 , -0.95689862,\n",
       "       -0.52576287, -2.14775497, -2.88013364, -0.44476098,  1.57742749,\n",
       "       -1.84001388, -0.88803303, -2.43192931,  0.5481678 , -2.18219895,\n",
       "       -1.28623204, -0.63525322, -1.55561136,  0.68212774, -0.977696  ,\n",
       "        1.39937392, -0.87380695,  1.73090304, -0.69422983, -1.10251656,\n",
       "        3.46633794, -0.51715726, -2.09536369, -1.53697367,  0.94323639,\n",
       "       -1.85020039,  1.07604005,  0.88092962, -1.44455806,  0.62789538,\n",
       "        0.19357298,  0.17841873, -0.36526597, -0.24453935, -0.15740415,\n",
       "       -0.51859095,  1.24053988, -0.84839414,  0.43660875, -0.54176917,\n",
       "       -1.73488359, -0.6484865 ,  1.83042837, -0.08088819, -1.38472825,\n",
       "        0.39376888,  0.56278893, -0.78412265, -0.43226004,  0.4327579 ,\n",
       "        0.86402793, -0.20358758,  0.24752173,  2.85029498,  1.05362078,\n",
       "       -0.27036904, -0.97992609, -1.12346673,  3.62151306, -2.42231969,\n",
       "        0.22649093, -1.38923916, -0.81194131, -1.78305739,  0.90286896,\n",
       "        0.89438737,  2.38501782, -1.83005691, -1.95050656, -1.22956542,\n",
       "       -1.06225203, -0.25752519,  0.7443588 ,  0.23744692, -2.09821072,\n",
       "        0.11432862,  0.33963568, -0.47206176, -0.15281893, -3.18817568,\n",
       "        0.5029421 ,  3.85424254,  0.77909592,  2.26588198,  0.96628275,\n",
       "        2.18720613,  0.65377005, -1.12540358, -2.66908111,  2.04810405,\n",
       "        2.08730409,  0.36798248, -0.26461193, -0.88676456, -0.27717007])"
      ]
     },
     "execution_count": 11,
     "metadata": {},
     "output_type": "execute_result"
    }
   ],
   "source": [
    "errors = numpy.random.normal (loc=0.0, scale=1.0, size=100)\n",
    "\n",
    "simulated_data = x_values + errors\n",
    "\n",
    "simulated_data"
   ]
  },
  {
   "cell_type": "markdown",
   "metadata": {},
   "source": [
    "Let's plot this"
   ]
  },
  {
   "cell_type": "code",
   "execution_count": null,
   "metadata": {},
   "outputs": [],
   "source": [
    "plot stuff here"
   ]
  },
  {
   "cell_type": "markdown",
   "metadata": {},
   "source": [
    "Much better! Suppose we are now looking at this set of data above and think that it could be well modelled by linear regression, that is,\n",
    "\n",
    "$$y(x) = b_0 + b_1 x$$\n",
    "\n",
    "where $$y(x)$$ is our prediction for a given input $$x$$ with $$b_0$$ and $$b_1$$ being our two parametric variables (y-intercept and slop respectively)."
   ]
  }
 ],
 "metadata": {
  "kernelspec": {
   "display_name": "Python 3",
   "language": "python",
   "name": "python3"
  },
  "language_info": {
   "codemirror_mode": {
    "name": "ipython",
    "version": 2
   },
   "file_extension": ".py",
   "mimetype": "text/x-python",
   "name": "python",
   "nbconvert_exporter": "python",
   "pygments_lexer": "ipython2",
   "version": "2.7.12"
  }
 },
 "nbformat": 4,
 "nbformat_minor": 2
}
