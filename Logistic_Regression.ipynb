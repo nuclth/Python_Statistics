{
 "cells": [
  {
   "cell_type": "markdown",
   "metadata": {},
   "source": [
    "# To Do"
   ]
  },
  {
   "cell_type": "markdown",
   "metadata": {},
   "source": [
    "* improve executive summary\n",
    "\n",
    "\n",
    "* add additional tests (e.g., overdispersion)\n",
    "\n",
    "\n",
    "* add feature with continuous variable\n",
    "\n",
    "\n",
    "* add additional features to improve predictability\n",
    "\n",
    "\n",
    "* cost function, maximizing likelihood, and general logistic regression discussion\n",
    "\n",
    "\n",
    "* improve confusion matrix graphics \n",
    "\n",
    "\n",
    "* add auc metric"
   ]
  },
  {
   "cell_type": "markdown",
   "metadata": {},
   "source": [
    "# Executive Summary"
   ]
  },
  {
   "cell_type": "markdown",
   "metadata": {},
   "source": [
    "[nbviewer](http://nbviewer.jupyter.org/github/nuclth/Python_Statistics/blob/master/Logistic_Regression.ipynb)\n",
    "\n",
    "This is a notebook that implements logistic regression on a dataset. The problem is to predict whether a student will smoke based off whether their parents do or do not smoke. This is a simplest working example of logistic regression where the response variable is binary and the independent variable is either binary (in the first pass) or has three levels. \n",
    "\n",
    "This notebook is based off the notes and problem example in chapter 6.2 of the PSU [Stat 504](https://onlinecourses.science.psu.edu/stat504/node/150) course."
   ]
  },
  {
   "cell_type": "markdown",
   "metadata": {},
   "source": [
    "# Concepts"
   ]
  },
  {
   "cell_type": "markdown",
   "metadata": {},
   "source": [
    "* logistic regression\n",
    "* confusion matrix\n",
    "* ROC curve\n",
    "* dummy variables\n",
    "* z statistic"
   ]
  },
  {
   "cell_type": "markdown",
   "metadata": {},
   "source": [
    "# Dataset Creation"
   ]
  },
  {
   "cell_type": "markdown",
   "metadata": {},
   "source": [
    "<br>\n",
    "First let's import the relevant modules:\n",
    "\n",
    "<br>"
   ]
  },
  {
   "cell_type": "code",
   "execution_count": 24,
   "metadata": {},
   "outputs": [],
   "source": [
    "# import third party libraries\n",
    "import pandas as pd\n",
    "import statsmodels.api as sm\n",
    "\n",
    "# import sklearn functions\n",
    "from sklearn.metrics import confusion_matrix\n",
    "from sklearn.metrics import roc_curve\n",
    "\n",
    "# import custom functions\n",
    "from src.logreg_functions import *"
   ]
  },
  {
   "cell_type": "markdown",
   "metadata": {},
   "source": [
    "<br>\n",
    "\n",
    "Now we can create our dataset. The idea is we want to predict whether a student smokes or not given the information about whether either of their parents smoke. This can be visualized in a 2x2 table as given below. The latin letters `a, b, c, d` correspond to the number of students in a given category. \n",
    "\n",
    "<br>"
   ]
  },
  {
   "cell_type": "markdown",
   "metadata": {},
   "source": [
    "| Student Smokes | Student Does Not Smoke\n",
    "---------|--------\n",
    "A Parent Smokes | a | b\n",
    "No Parent Smokes | c | d"
   ]
  },
  {
   "cell_type": "markdown",
   "metadata": {},
   "source": [
    "Before we continue, let's take a guess:\n",
    "<br><br>\n",
    "<center>**Hypothesis**: Students with parents who smoke, are more likely to be smokers themselves.</center>"
   ]
  },
  {
   "cell_type": "markdown",
   "metadata": {},
   "source": [
    "<br>\n",
    "We'll see if this hypothesis is justified or not further in. First to create our data, we call a python function, `create_smoking_data (a, b, c, d)` to fill a dataframe with student statistics. Each response will be a Y/N string.\n",
    "\n",
    "<br>"
   ]
  },
  {
   "cell_type": "code",
   "execution_count": 2,
   "metadata": {
    "code_folding": []
   },
   "outputs": [],
   "source": [
    "df = create_smoking_data(816, 3203, 188, 1168)"
   ]
  },
  {
   "cell_type": "markdown",
   "metadata": {},
   "source": [
    "<br>\n",
    "For the table above, these numbers would correspond to the following populations (again these numbers are taken from the PSU [Stats 504](https://onlinecourses.science.psu.edu/stat504/node/150) course),"
   ]
  },
  {
   "cell_type": "markdown",
   "metadata": {},
   "source": [
    "| Student Smokes | Student Does Not Smoke\n",
    "---------|--------\n",
    "A Parent Smokes | 816 | 3203\n",
    "No Parent Smokes | 188 | 1168"
   ]
  },
  {
   "cell_type": "markdown",
   "metadata": {},
   "source": [
    "<br>\n",
    "Let's do a quick check through the dataframe to make sure everything looks ok.\n",
    "\n",
    "<br>"
   ]
  },
  {
   "cell_type": "code",
   "execution_count": 3,
   "metadata": {},
   "outputs": [
    {
     "data": {
      "text/html": [
       "<div>\n",
       "<style>\n",
       "    .dataframe thead tr:only-child th {\n",
       "        text-align: right;\n",
       "    }\n",
       "\n",
       "    .dataframe thead th {\n",
       "        text-align: left;\n",
       "    }\n",
       "\n",
       "    .dataframe tbody tr th {\n",
       "        vertical-align: top;\n",
       "    }\n",
       "</style>\n",
       "<table border=\"1\" class=\"dataframe\">\n",
       "  <thead>\n",
       "    <tr style=\"text-align: right;\">\n",
       "      <th></th>\n",
       "      <th>parent_smoking</th>\n",
       "      <th>student_smoking</th>\n",
       "    </tr>\n",
       "  </thead>\n",
       "  <tbody>\n",
       "    <tr>\n",
       "      <th>0</th>\n",
       "      <td>Y</td>\n",
       "      <td>N</td>\n",
       "    </tr>\n",
       "    <tr>\n",
       "      <th>1</th>\n",
       "      <td>Y</td>\n",
       "      <td>N</td>\n",
       "    </tr>\n",
       "    <tr>\n",
       "      <th>2</th>\n",
       "      <td>N</td>\n",
       "      <td>N</td>\n",
       "    </tr>\n",
       "    <tr>\n",
       "      <th>3</th>\n",
       "      <td>Y</td>\n",
       "      <td>Y</td>\n",
       "    </tr>\n",
       "    <tr>\n",
       "      <th>4</th>\n",
       "      <td>N</td>\n",
       "      <td>N</td>\n",
       "    </tr>\n",
       "  </tbody>\n",
       "</table>\n",
       "</div>"
      ],
      "text/plain": [
       "  parent_smoking student_smoking\n",
       "0              Y               N\n",
       "1              Y               N\n",
       "2              N               N\n",
       "3              Y               Y\n",
       "4              N               N"
      ]
     },
     "execution_count": 3,
     "metadata": {},
     "output_type": "execute_result"
    }
   ],
   "source": [
    "df.head()"
   ]
  },
  {
   "cell_type": "code",
   "execution_count": 4,
   "metadata": {},
   "outputs": [
    {
     "data": {
      "text/html": [
       "<div>\n",
       "<style>\n",
       "    .dataframe thead tr:only-child th {\n",
       "        text-align: right;\n",
       "    }\n",
       "\n",
       "    .dataframe thead th {\n",
       "        text-align: left;\n",
       "    }\n",
       "\n",
       "    .dataframe tbody tr th {\n",
       "        vertical-align: top;\n",
       "    }\n",
       "</style>\n",
       "<table border=\"1\" class=\"dataframe\">\n",
       "  <thead>\n",
       "    <tr style=\"text-align: right;\">\n",
       "      <th></th>\n",
       "      <th>parent_smoking</th>\n",
       "      <th>student_smoking</th>\n",
       "    </tr>\n",
       "  </thead>\n",
       "  <tbody>\n",
       "    <tr>\n",
       "      <th>5370</th>\n",
       "      <td>Y</td>\n",
       "      <td>N</td>\n",
       "    </tr>\n",
       "    <tr>\n",
       "      <th>5371</th>\n",
       "      <td>N</td>\n",
       "      <td>N</td>\n",
       "    </tr>\n",
       "    <tr>\n",
       "      <th>5372</th>\n",
       "      <td>Y</td>\n",
       "      <td>N</td>\n",
       "    </tr>\n",
       "    <tr>\n",
       "      <th>5373</th>\n",
       "      <td>Y</td>\n",
       "      <td>N</td>\n",
       "    </tr>\n",
       "    <tr>\n",
       "      <th>5374</th>\n",
       "      <td>Y</td>\n",
       "      <td>N</td>\n",
       "    </tr>\n",
       "  </tbody>\n",
       "</table>\n",
       "</div>"
      ],
      "text/plain": [
       "     parent_smoking student_smoking\n",
       "5370              Y               N\n",
       "5371              N               N\n",
       "5372              Y               N\n",
       "5373              Y               N\n",
       "5374              Y               N"
      ]
     },
     "execution_count": 4,
     "metadata": {},
     "output_type": "execute_result"
    }
   ],
   "source": [
    "df.tail()"
   ]
  },
  {
   "cell_type": "markdown",
   "metadata": {},
   "source": [
    "<br>\n",
    "Looks good. How about on a more macroscopic scale?\n",
    "\n",
    "<br>"
   ]
  },
  {
   "cell_type": "code",
   "execution_count": 5,
   "metadata": {},
   "outputs": [
    {
     "name": "stdout",
     "output_type": "stream",
     "text": [
      "<class 'pandas.core.frame.DataFrame'>\n",
      "RangeIndex: 5375 entries, 0 to 5374\n",
      "Data columns (total 2 columns):\n",
      "parent_smoking     5375 non-null object\n",
      "student_smoking    5375 non-null object\n",
      "dtypes: object(2)\n",
      "memory usage: 84.1+ KB\n"
     ]
    }
   ],
   "source": [
    "df.info()"
   ]
  },
  {
   "cell_type": "markdown",
   "metadata": {},
   "source": [
    "<br>\n",
    "So we see that we have 5375 total entries with no missing data (as expected given that's how we constructed it). \n",
    "\n",
    "<br>"
   ]
  },
  {
   "cell_type": "code",
   "execution_count": 6,
   "metadata": {},
   "outputs": [
    {
     "data": {
      "text/html": [
       "<div>\n",
       "<style>\n",
       "    .dataframe thead tr:only-child th {\n",
       "        text-align: right;\n",
       "    }\n",
       "\n",
       "    .dataframe thead th {\n",
       "        text-align: left;\n",
       "    }\n",
       "\n",
       "    .dataframe tbody tr th {\n",
       "        vertical-align: top;\n",
       "    }\n",
       "</style>\n",
       "<table border=\"1\" class=\"dataframe\">\n",
       "  <thead>\n",
       "    <tr style=\"text-align: right;\">\n",
       "      <th></th>\n",
       "      <th>parent_smoking</th>\n",
       "      <th>student_smoking</th>\n",
       "    </tr>\n",
       "  </thead>\n",
       "  <tbody>\n",
       "    <tr>\n",
       "      <th>count</th>\n",
       "      <td>5375</td>\n",
       "      <td>5375</td>\n",
       "    </tr>\n",
       "    <tr>\n",
       "      <th>unique</th>\n",
       "      <td>2</td>\n",
       "      <td>2</td>\n",
       "    </tr>\n",
       "    <tr>\n",
       "      <th>top</th>\n",
       "      <td>Y</td>\n",
       "      <td>N</td>\n",
       "    </tr>\n",
       "    <tr>\n",
       "      <th>freq</th>\n",
       "      <td>4019</td>\n",
       "      <td>4371</td>\n",
       "    </tr>\n",
       "  </tbody>\n",
       "</table>\n",
       "</div>"
      ],
      "text/plain": [
       "       parent_smoking student_smoking\n",
       "count            5375            5375\n",
       "unique              2               2\n",
       "top                 Y               N\n",
       "freq             4019            4371"
      ]
     },
     "execution_count": 6,
     "metadata": {},
     "output_type": "execute_result"
    }
   ],
   "source": [
    "df.describe()"
   ]
  },
  {
   "cell_type": "markdown",
   "metadata": {},
   "source": [
    "<br>\n",
    "Our dataframe holds two unique values (Y/N) as expected for a binary variable and response. We can also see from the `top` and `freq` outputs that our dataset is weighted heavily towards parents who smoke and students who don't.\n",
    "\n",
    "Let's reinforce these points with some graphics, first with absolute counts and then with the relative percentage of each population:\n",
    "\n",
    "<br>"
   ]
  },
  {
   "cell_type": "code",
   "execution_count": 7,
   "metadata": {},
   "outputs": [
    {
     "data": {
      "image/png": "[encoded data removed]",
      "text/plain": [
       "<matplotlib.figure.Figure at 0x7ff1dc37ecf8>"
      ]
     },
     "metadata": {},
     "output_type": "display_data"
    }
   ],
   "source": [
    "fig, ax = plt.subplots(1,2,figsize=(20,10))\n",
    "\n",
    "plot_cat (df, ax=ax[0], rel=False)\n",
    "plot_cat (df, ax=ax[1], rel=True)\n",
    "plt.tight_layout()\n",
    "plt.show()"
   ]
  },
  {
   "cell_type": "markdown",
   "metadata": {},
   "source": [
    "<br>\n",
    "Again as seen from the absolute counts, our dataset overrepresents students who don't smoke and parents who do. On the relative side, the percentages of the two groups in a given bin should be approximately equal if there is no relationship between the variable and response. However, looking at the distribution above, there is a slight imbalance where students who smoke are more likely to have parents who smoke relative to students who don't. \n",
    "\n",
    "This demonstrates, assuming there was no bias in how the data was drawn and that our statistical sample is large enough, that there exists some correlation between parents smoking and students smoking.\n",
    "\n",
    "<br>"
   ]
  },
  {
   "cell_type": "markdown",
   "metadata": {},
   "source": [
    "# Logistic Regression"
   ]
  },
  {
   "cell_type": "markdown",
   "metadata": {},
   "source": [
    "Logistic regression is a method used for binary classification (student smoking = Y/N). Here we perform it over one categorical variable $x$ which can take values of 0 or 1. The idea behind logistic regression is that we want to retain the advantage of linearity in a model but allow for our target variable to be constrained to be between 0 and 1 (rather than $-\\infty$ to $\\infty$ as in linear regression). This is accomplished in logistic regression using the logistic function. Thus the probability for student $i$ to smoke is $\\pi_i$ and is given by,"
   ]
  },
  {
   "cell_type": "markdown",
   "metadata": {},
   "source": [
    "$$\\pi_i = \\frac{\\exp(\\beta_0 + \\beta_1 x_i)}{1 + \\exp(\\beta_0 + \\beta_1 x_i)}$$"
   ]
  },
  {
   "cell_type": "markdown",
   "metadata": {},
   "source": [
    "$$ \\text{logit} \\left( \\pi_i \\right) \\equiv \\text{log} \\left( \\frac{\\pi_i}{1 - \\pi_i} \\right) = \\beta_0 + \\beta_1 x_i$$"
   ]
  },
  {
   "cell_type": "markdown",
   "metadata": {},
   "source": [
    "<br>\n",
    "Now we can create our training and validation datasets. First let's map the our Y/N to numerical values 1/0 and split our data into a **training set** and a **validation set** with **80%** in the former and **20%** in the latter:\n",
    "\n",
    "<br>"
   ]
  },
  {
   "cell_type": "code",
   "execution_count": 8,
   "metadata": {},
   "outputs": [],
   "source": [
    "# Y/N to 1/0 map\n",
    "df['student_smoking'] = df['student_smoking'].map(lambda x: 1 if x == 'Y' else 0)\n",
    "df['parent_smoking'] = df['parent_smoking'].map(lambda x: 1 if x == 'Y' else 0)\n",
    "\n",
    "# number of training samples\n",
    "num = 4300\n",
    "\n",
    "# split into training/validation sets\n",
    "train = df.copy()\n",
    "valid = df.iloc[num:]\n",
    "train = df.drop(train.index[num:])"
   ]
  },
  {
   "cell_type": "markdown",
   "metadata": {},
   "source": [
    "<br>\n",
    "Now pull off the true response for each student into two new series for the training/validation datasets, then drop the same variables for the fit and validation.\n",
    "\n",
    "<br>"
   ]
  },
  {
   "cell_type": "code",
   "execution_count": 9,
   "metadata": {},
   "outputs": [
    {
     "name": "stdout",
     "output_type": "stream",
     "text": [
      "Optimization terminated successfully.\n",
      "         Current function value: 0.486196\n",
      "         Iterations 6\n"
     ]
    }
   ],
   "source": [
    "# create series for training/validation response\n",
    "train_res = train['student_smoking'].copy()\n",
    "valid_res = valid['student_smoking'].copy()\n",
    "\n",
    "# drop response from training/validation set\n",
    "train = train.drop(['student_smoking'], axis=1)\n",
    "valid = valid.drop(['student_smoking'], axis=1)\n",
    "\n",
    "# add a constant term for the intercept\n",
    "train = sm.tools.tools.add_constant(train, prepend=False, has_constant='skip')\n",
    "valid = sm.tools.tools.add_constant(valid, prepend=False, has_constant='skip')\n",
    "\n",
    "# fit the model\n",
    "logit = sm.Logit(train_res, train)\n",
    "result = logit.fit()"
   ]
  },
  {
   "cell_type": "markdown",
   "metadata": {},
   "source": [
    "<br>\n",
    "Let's see how we did.\n",
    "\n",
    "<br>"
   ]
  },
  {
   "cell_type": "code",
   "execution_count": 10,
   "metadata": {},
   "outputs": [
    {
     "data": {
      "text/html": [
       "<table class=\"simpletable\">\n",
       "<caption>Logit Regression Results</caption>\n",
       "<tr>\n",
       "  <th>Dep. Variable:</th>  <td>student_smoking</td> <th>  No. Observations:  </th>  <td>  4300</td>  \n",
       "</tr>\n",
       "<tr>\n",
       "  <th>Model:</th>               <td>Logit</td>      <th>  Df Residuals:      </th>  <td>  4298</td>  \n",
       "</tr>\n",
       "<tr>\n",
       "  <th>Method:</th>               <td>MLE</td>       <th>  Df Model:          </th>  <td>     1</td>  \n",
       "</tr>\n",
       "<tr>\n",
       "  <th>Date:</th>          <td>Fri, 17 Nov 2017</td> <th>  Pseudo R-squ.:     </th> <td>0.004868</td> \n",
       "</tr>\n",
       "<tr>\n",
       "  <th>Time:</th>              <td>14:52:49</td>     <th>  Log-Likelihood:    </th> <td> -2090.6</td> \n",
       "</tr>\n",
       "<tr>\n",
       "  <th>converged:</th>           <td>True</td>       <th>  LL-Null:           </th> <td> -2100.9</td> \n",
       "</tr>\n",
       "<tr>\n",
       "  <th> </th>                      <td> </td>        <th>  LLR p-value:       </th> <td>6.107e-06</td>\n",
       "</tr>\n",
       "</table>\n",
       "<table class=\"simpletable\">\n",
       "<tr>\n",
       "         <td></td>           <th>coef</th>     <th>std err</th>      <th>z</th>      <th>P>|z|</th>  <th>[0.025</th>    <th>0.975]</th>  \n",
       "</tr>\n",
       "<tr>\n",
       "  <th>parent_smoking</th> <td>    0.4214</td> <td>    0.096</td> <td>    4.399</td> <td> 0.000</td> <td>    0.234</td> <td>    0.609</td>\n",
       "</tr>\n",
       "<tr>\n",
       "  <th>const</th>          <td>   -1.7634</td> <td>    0.085</td> <td>  -20.673</td> <td> 0.000</td> <td>   -1.931</td> <td>   -1.596</td>\n",
       "</tr>\n",
       "</table>"
      ],
      "text/plain": [
       "<class 'statsmodels.iolib.summary.Summary'>\n",
       "\"\"\"\n",
       "                           Logit Regression Results                           \n",
       "==============================================================================\n",
       "Dep. Variable:        student_smoking   No. Observations:                 4300\n",
       "Model:                          Logit   Df Residuals:                     4298\n",
       "Method:                           MLE   Df Model:                            1\n",
       "Date:                Fri, 17 Nov 2017   Pseudo R-squ.:                0.004868\n",
       "Time:                        14:52:49   Log-Likelihood:                -2090.6\n",
       "converged:                       True   LL-Null:                       -2100.9\n",
       "                                        LLR p-value:                 6.107e-06\n",
       "==================================================================================\n",
       "                     coef    std err          z      P>|z|      [0.025      0.975]\n",
       "----------------------------------------------------------------------------------\n",
       "parent_smoking     0.4214      0.096      4.399      0.000       0.234       0.609\n",
       "const             -1.7634      0.085    -20.673      0.000      -1.931      -1.596\n",
       "==================================================================================\n",
       "\"\"\""
      ]
     },
     "execution_count": 10,
     "metadata": {},
     "output_type": "execute_result"
    }
   ],
   "source": [
    "result.summary()"
   ]
  },
  {
   "cell_type": "markdown",
   "metadata": {},
   "source": [
    "<br>\n",
    "There's a lot to unpack here so let's focus on just a few crucial points:\n",
    "\n",
    "* Our constant coefficient is approximately $\\beta_0 \\approx -1.8$. This means that the probability for a student to smoke without smoking parents is $\\pi \\approx 14\\%$. \n",
    "\n",
    "\n",
    "* The parental smoking coefficient is approximately $\\beta_1 \\approx 0.45$. The means that with a smoking parent, a student's probability to smoke is $\\pi \\approx 20\\%$, a risk increase of around 1.5 times. Note that since the coefficient is positive, the correlation is positive.\n",
    "\n",
    "\n",
    "* Our z value for $\\beta_0$ is large while the the value for $\\beta_1$ is somewhat smaller but still large. Given the sizes, we can say that the coefficients are statistically meaningful. For more information on z values, see the appendix."
   ]
  },
  {
   "cell_type": "markdown",
   "metadata": {},
   "source": [
    "Looking at the course page for the [Stat 504](https://onlinecourses.science.psu.edu/stat504/node/150) course, we see that our values for the training set are quite close to the expected values: "
   ]
  },
  {
   "cell_type": "markdown",
   "metadata": {},
   "source": [
    "$$\\beta_0 = -1.827 \\ , \\qquad \\beta_1 = 0.459$$"
   ]
  },
  {
   "cell_type": "markdown",
   "metadata": {},
   "source": [
    "<br>\n",
    "So we seem to have a decent fit indicating some meaningful relationship between our variable and response. But how predictive is our model? Putting in our validation set, we see that we get our two possible probability outputs as outlined above,\n",
    "\n",
    "<br>"
   ]
  },
  {
   "cell_type": "code",
   "execution_count": 11,
   "metadata": {},
   "outputs": [
    {
     "data": {
      "text/plain": [
       "array([ 0.14636364,  0.2071875 ])"
      ]
     },
     "execution_count": 11,
     "metadata": {},
     "output_type": "execute_result"
    }
   ],
   "source": [
    "predictions = result.predict(valid)\n",
    "predictions.unique()"
   ]
  },
  {
   "cell_type": "markdown",
   "metadata": {},
   "source": [
    "<br>\n",
    "But what threshold do we set? That is, what probability cutoff do we use to decide which student goes in which bin? Note that here we only have one possible threshold (a value between 0.14 and 0.2) as any threshold would put alll students into one bin or the other. A way to assess a given threshold choice is to look at a confusion matrix. A confusion matrix is a table showing predicted responses on one table axis and true reponses on the other. If the model we are using is perfect, the confusion matrix should be diagonal.\n",
    "\n",
    "<br>"
   ]
  },
  {
   "cell_type": "code",
   "execution_count": 12,
   "metadata": {},
   "outputs": [
    {
     "data": {
      "text/plain": [
       "array([[229, 666],\n",
       "       [ 27, 153]])"
      ]
     },
     "execution_count": 12,
     "metadata": {},
     "output_type": "execute_result"
    }
   ],
   "source": [
    "# map prediction to 1/0 for a threshold = 0.17\n",
    "pred_map = predictions.map(lambda x: 1 if x > 0.17 else 0)\n",
    "\n",
    "confusion_matrix (valid_res, pred_map)"
   ]
  },
  {
   "cell_type": "markdown",
   "metadata": {},
   "source": [
    "Documentation for the confusion matrix output is given [here](http://scikit-learn.org/stable/modules/generated/sklearn.metrics.confusion_matrix.html). In short: \n",
    "\n",
    "* $C_{0,0}$ are true negatives\n",
    "* $C_{1,0}$ are false negatives\n",
    "* $C_{0,1}$ are false positives\n",
    "* $C_{1,1}$ are true positives\n",
    "\n",
    "With information from this table, we can also construct two important metrics to assess a binary classification model: the true positive rate (TPR) and false positive rate (FPR). Their formulas are given by:"
   ]
  },
  {
   "cell_type": "markdown",
   "metadata": {},
   "source": [
    "$$ \\text{TPR} = \\frac{\\text{TP}}{\\text{TP + FN}} \\enspace ,  \\qquad \\text{FPR} \\equiv \\frac{\\text{FP}}{\\text{FP + TN}} $$"
   ]
  },
  {
   "cell_type": "markdown",
   "metadata": {},
   "source": [
    "where\n",
    "\n",
    "* TP is the number of true positives\n",
    "* FN is the number of false negatives\n",
    "* FP is the number of false positives\n",
    "* TN is the number of true negatives"
   ]
  },
  {
   "cell_type": "markdown",
   "metadata": {},
   "source": [
    "The denominators in each correspond to the number of actual positives and actual negatives for the TPR and FPR respectively. For the table above, the TPR and FPR are given by:"
   ]
  },
  {
   "cell_type": "markdown",
   "metadata": {},
   "source": [
    "$$\\text{TPR} = \\frac{153}{180} = 0.85 \\enspace , \\qquad \\text{FPR} = \\frac{666}{895} = 0.74 $$"
   ]
  },
  {
   "cell_type": "markdown",
   "metadata": {},
   "source": [
    "Another way to access this same information is using a receiver operating characteristic (ROC) curve. This will come in handy as it will allows us to explore the same information for all thresholds simulatenously. "
   ]
  },
  {
   "cell_type": "code",
   "execution_count": 13,
   "metadata": {},
   "outputs": [
    {
     "data": {
      "text/html": [
       "<div>\n",
       "<style>\n",
       "    .dataframe thead tr:only-child th {\n",
       "        text-align: right;\n",
       "    }\n",
       "\n",
       "    .dataframe thead th {\n",
       "        text-align: left;\n",
       "    }\n",
       "\n",
       "    .dataframe tbody tr th {\n",
       "        vertical-align: top;\n",
       "    }\n",
       "</style>\n",
       "<table border=\"1\" class=\"dataframe\">\n",
       "  <thead>\n",
       "    <tr style=\"text-align: right;\">\n",
       "      <th></th>\n",
       "      <th>fpr</th>\n",
       "      <th>thres</th>\n",
       "      <th>tpr</th>\n",
       "    </tr>\n",
       "  </thead>\n",
       "  <tbody>\n",
       "    <tr>\n",
       "      <th>0</th>\n",
       "      <td>0.000000</td>\n",
       "      <td>1.207187</td>\n",
       "      <td>0.00</td>\n",
       "    </tr>\n",
       "    <tr>\n",
       "      <th>1</th>\n",
       "      <td>0.744134</td>\n",
       "      <td>0.207187</td>\n",
       "      <td>0.85</td>\n",
       "    </tr>\n",
       "    <tr>\n",
       "      <th>2</th>\n",
       "      <td>1.000000</td>\n",
       "      <td>0.146364</td>\n",
       "      <td>1.00</td>\n",
       "    </tr>\n",
       "  </tbody>\n",
       "</table>\n",
       "</div>"
      ],
      "text/plain": [
       "        fpr     thres   tpr\n",
       "0  0.000000  1.207187  0.00\n",
       "1  0.744134  0.207187  0.85\n",
       "2  1.000000  0.146364  1.00"
      ]
     },
     "execution_count": 13,
     "metadata": {},
     "output_type": "execute_result"
    }
   ],
   "source": [
    "fpr, tpr, thres = roc_curve (valid_res, predictions)\n",
    "\n",
    "rocdf = pd.DataFrame(dict(fpr=fpr, tpr=tpr, thres=thres))\n",
    "rocdf"
   ]
  },
  {
   "cell_type": "markdown",
   "metadata": {},
   "source": [
    "<br>\n",
    "And we can see for our threshold choice (really threshold choice in the same range) we exactly reproduce the expected TPR and FPR values. \n",
    "\n",
    "Now let's plot the ROC curve,\n",
    "\n",
    "<br>"
   ]
  },
  {
   "cell_type": "code",
   "execution_count": 14,
   "metadata": {},
   "outputs": [
    {
     "data": {
      "image/png": "[encoded data removed]",
      "text/plain": [
       "<matplotlib.figure.Figure at 0x7ff1dc2382b0>"
      ]
     },
     "metadata": {},
     "output_type": "display_data"
    }
   ],
   "source": [
    "plot_roc (rocdf)"
   ]
  },
  {
   "cell_type": "markdown",
   "metadata": {},
   "source": [
    "<br>\n",
    "and we see that our model isn't particularly great. The dashed line above is a baseline that corresponds to just randomly guessing whether a student smokes or not and the blue line connects points of different TPR/FPR values for different threshold choices. As discussed previously, there is only one threshold value where we can actually make a prediction other than grouping everyone into one bin. With this choice, we get back a false positive rate of 73% and a true positive rate of 82%. This is better than random guessing though not by much. Clearly our model needs improving.\n",
    "\n",
    "<br>"
   ]
  },
  {
   "cell_type": "markdown",
   "metadata": {},
   "source": [
    "# Adding a New Variable"
   ]
  },
  {
   "cell_type": "markdown",
   "metadata": {},
   "source": [
    "<br>\n",
    "Our previous model is likely too simplistic. Let's try adding a new variable by splitting up the parent smoking variable into two groups, one where both parents of the student smoke and another where only one smokes:\n",
    "\n",
    "<br>"
   ]
  },
  {
   "cell_type": "markdown",
   "metadata": {},
   "source": [
    "| Student Smokes | Student Does Not Smoke\n",
    "---------|--------\n",
    "Both Parents Smoke | a | b\n",
    "One Parent Smokes | c | d\n",
    "No Parent Smokes | e | f"
   ]
  },
  {
   "cell_type": "markdown",
   "metadata": {},
   "source": [
    "<br>\n",
    "This requires a new logistic regression function where our probability $\\pi_i$ for student $i$ now has two possible binary inputs $x_{1,i}$ and $x_{2,i}$,"
   ]
  },
  {
   "cell_type": "markdown",
   "metadata": {},
   "source": [
    "$$\\pi_i = \\frac{\\exp(\\beta_0 + \\beta_1 x_{1,i} + \\beta_2 x_{2,i})}{1 + \\exp(\\beta_0 + \\beta_1 x_{1,i} + \\beta_2 x_{2,i})}$$"
   ]
  },
  {
   "cell_type": "markdown",
   "metadata": {},
   "source": [
    "$$ \\text{logit} \\left( \\pi_i \\right) \\equiv \\text{log} \\left( \\frac{\\pi_i}{1 - \\pi_i} \\right) = \\beta_0 + \\beta_1 x_{1,i} + \\beta_2 x_{2,i}$$"
   ]
  },
  {
   "cell_type": "markdown",
   "metadata": {},
   "source": [
    "<br>\n",
    "Above, $x_1$ is 1 when *only one* parent smokes and zero otherwise. $x_2$ is 1 when *both* parents smoke and zero otherwise. Therefore with only two variables, we cover all three possibilities. \n",
    "\n",
    "We again call a previously defined python function, `create_smoking_data_mod (a, b, c, d, e, f)` to fill a dataframe with the values as specified in the [Stat 504](https://onlinecourses.science.psu.edu/stat504/node/150) course. \n",
    "\n",
    "<br>"
   ]
  },
  {
   "cell_type": "code",
   "execution_count": 15,
   "metadata": {},
   "outputs": [],
   "source": [
    "df = create_smoking_data_mod (400, 1380, 416, 1823, 188, 1168)"
   ]
  },
  {
   "cell_type": "markdown",
   "metadata": {},
   "source": [
    "<br>\n",
    "This would fill the preceding table in the following way,\n",
    "\n",
    "<br>"
   ]
  },
  {
   "cell_type": "markdown",
   "metadata": {},
   "source": [
    "| Student Smokes | Student Does Not Smoke\n",
    "---------|--------\n",
    "Both Parents Smoke | 400 | 1380\n",
    "One Parent Smokes | 416 | 1823\n",
    "No Parent Smokes | 188 | 1168"
   ]
  },
  {
   "cell_type": "markdown",
   "metadata": {},
   "source": [
    "<br>\n",
    "And like before, let's make a quick plot to see what this data looks like in absolute and relative terms:\n",
    "\n",
    "<br>"
   ]
  },
  {
   "cell_type": "code",
   "execution_count": 16,
   "metadata": {},
   "outputs": [
    {
     "data": {
      "image/png": "[encoded data removed]",
      "text/plain": [
       "<matplotlib.figure.Figure at 0x7ff1dc108a58>"
      ]
     },
     "metadata": {},
     "output_type": "display_data"
    }
   ],
   "source": [
    "fig, ax = plt.subplots(1,2,figsize=(20,10))\n",
    "\n",
    "plot_cat_mod (df, ax=ax[0], rel=False)\n",
    "plot_cat_mod (df, ax=ax[1], rel=True)\n",
    "plt.tight_layout()\n",
    "plt.show()"
   ]
  },
  {
   "cell_type": "markdown",
   "metadata": {},
   "source": [
    "<br>\n",
    "Note that since our categorical variable now has three possible values, we need to create some dummy variables to represent the different possibilities: \n",
    "\n",
    "<br>"
   ]
  },
  {
   "cell_type": "code",
   "execution_count": 17,
   "metadata": {},
   "outputs": [],
   "source": [
    "# map response Y/N to 1/0\n",
    "df['student_smoking'] = df['student_smoking'].map(lambda x: 1 if x == 'Y' else 0)\n",
    "\n",
    "# create/add dummy variables and drop superfluous terms\n",
    "dum_var = pd.get_dummies(df['parent_smoking'], prefix='#_smoke_par')\n",
    "df = pd.concat([df, dum_var], axis=1)\n",
    "df = df.drop(['parent_smoking', '#_smoke_par_0'], axis=1)"
   ]
  },
  {
   "cell_type": "markdown",
   "metadata": {},
   "source": [
    "<br>\n",
    "As before we map student Y/N responses to 1/0. We also drop the original parent smoking variable as it is replaced by our dummy variables. We also drop one of the dummy variable columns as it is superfluous, i.e., [0,0], [0,1], and [1,0] exhaust our 3 possibilities for the remaining two dummy variables. After these operations, our data now looks like this:\n",
    "\n",
    "<br>"
   ]
  },
  {
   "cell_type": "code",
   "execution_count": 18,
   "metadata": {},
   "outputs": [
    {
     "data": {
      "text/html": [
       "<div>\n",
       "<style>\n",
       "    .dataframe thead tr:only-child th {\n",
       "        text-align: right;\n",
       "    }\n",
       "\n",
       "    .dataframe thead th {\n",
       "        text-align: left;\n",
       "    }\n",
       "\n",
       "    .dataframe tbody tr th {\n",
       "        vertical-align: top;\n",
       "    }\n",
       "</style>\n",
       "<table border=\"1\" class=\"dataframe\">\n",
       "  <thead>\n",
       "    <tr style=\"text-align: right;\">\n",
       "      <th></th>\n",
       "      <th>student_smoking</th>\n",
       "      <th>#_smoke_par_1</th>\n",
       "      <th>#_smoke_par_2</th>\n",
       "    </tr>\n",
       "  </thead>\n",
       "  <tbody>\n",
       "    <tr>\n",
       "      <th>0</th>\n",
       "      <td>0</td>\n",
       "      <td>0</td>\n",
       "      <td>1</td>\n",
       "    </tr>\n",
       "    <tr>\n",
       "      <th>1</th>\n",
       "      <td>0</td>\n",
       "      <td>1</td>\n",
       "      <td>0</td>\n",
       "    </tr>\n",
       "    <tr>\n",
       "      <th>2</th>\n",
       "      <td>0</td>\n",
       "      <td>0</td>\n",
       "      <td>0</td>\n",
       "    </tr>\n",
       "    <tr>\n",
       "      <th>3</th>\n",
       "      <td>0</td>\n",
       "      <td>1</td>\n",
       "      <td>0</td>\n",
       "    </tr>\n",
       "    <tr>\n",
       "      <th>4</th>\n",
       "      <td>0</td>\n",
       "      <td>0</td>\n",
       "      <td>0</td>\n",
       "    </tr>\n",
       "  </tbody>\n",
       "</table>\n",
       "</div>"
      ],
      "text/plain": [
       "   student_smoking  #_smoke_par_1  #_smoke_par_2\n",
       "0                0              0              1\n",
       "1                0              1              0\n",
       "2                0              0              0\n",
       "3                0              1              0\n",
       "4                0              0              0"
      ]
     },
     "execution_count": 18,
     "metadata": {},
     "output_type": "execute_result"
    }
   ],
   "source": [
    "df.head()"
   ]
  },
  {
   "cell_type": "markdown",
   "metadata": {},
   "source": [
    "<br>\n",
    "Finally, let's do exactly what we did before in splitting off our data into a training/validation dataset in an 80/20 ratio.\n",
    "\n",
    "<br>"
   ]
  },
  {
   "cell_type": "code",
   "execution_count": 19,
   "metadata": {},
   "outputs": [
    {
     "name": "stdout",
     "output_type": "stream",
     "text": [
      "Optimization terminated successfully.\n",
      "         Current function value: 0.485034\n",
      "         Iterations 6\n"
     ]
    }
   ],
   "source": [
    "# number of training samples\n",
    "num = 4300\n",
    "\n",
    "# split into training/validation sets\n",
    "train = df.copy()\n",
    "valid = df.iloc[num:]\n",
    "train = df.drop(train.index[num:])\n",
    "\n",
    "# create response series\n",
    "train_res = train['student_smoking'].copy()\n",
    "valid_res = valid['student_smoking'].copy()\n",
    "\n",
    "# drop response from training/validation set\n",
    "train = train.drop(['student_smoking'], axis=1)\n",
    "valid = valid.drop(['student_smoking'], axis=1)\n",
    "\n",
    "# add an intercept term\n",
    "train = sm.tools.tools.add_constant(train, prepend=False, has_constant='skip')\n",
    "valid = sm.tools.tools.add_constant(valid, prepend=False, has_constant='skip')\n",
    "\n",
    "# fit the model\n",
    "logit = sm.Logit(train_res, train)\n",
    "result = logit.fit()"
   ]
  },
  {
   "cell_type": "code",
   "execution_count": 20,
   "metadata": {},
   "outputs": [
    {
     "data": {
      "text/html": [
       "<table class=\"simpletable\">\n",
       "<caption>Logit Regression Results</caption>\n",
       "<tr>\n",
       "  <th>Dep. Variable:</th>  <td>student_smoking</td> <th>  No. Observations:  </th>  <td>  4300</td>  \n",
       "</tr>\n",
       "<tr>\n",
       "  <th>Model:</th>               <td>Logit</td>      <th>  Df Residuals:      </th>  <td>  4297</td>  \n",
       "</tr>\n",
       "<tr>\n",
       "  <th>Method:</th>               <td>MLE</td>       <th>  Df Model:          </th>  <td>     2</td>  \n",
       "</tr>\n",
       "<tr>\n",
       "  <th>Date:</th>          <td>Fri, 17 Nov 2017</td> <th>  Pseudo R-squ.:     </th> <td>0.005883</td> \n",
       "</tr>\n",
       "<tr>\n",
       "  <th>Time:</th>              <td>14:52:55</td>     <th>  Log-Likelihood:    </th> <td> -2085.6</td> \n",
       "</tr>\n",
       "<tr>\n",
       "  <th>converged:</th>           <td>True</td>       <th>  LL-Null:           </th> <td> -2098.0</td> \n",
       "</tr>\n",
       "<tr>\n",
       "  <th> </th>                      <td> </td>        <th>  LLR p-value:       </th> <td>4.358e-06</td>\n",
       "</tr>\n",
       "</table>\n",
       "<table class=\"simpletable\">\n",
       "<tr>\n",
       "        <td></td>           <th>coef</th>     <th>std err</th>      <th>z</th>      <th>P>|z|</th>  <th>[0.025</th>    <th>0.975]</th>  \n",
       "</tr>\n",
       "<tr>\n",
       "  <th>#_smoke_par_1</th> <td>    0.3212</td> <td>    0.105</td> <td>    3.062</td> <td> 0.002</td> <td>    0.116</td> <td>    0.527</td>\n",
       "</tr>\n",
       "<tr>\n",
       "  <th>#_smoke_par_2</th> <td>    0.5230</td> <td>    0.107</td> <td>    4.886</td> <td> 0.000</td> <td>    0.313</td> <td>    0.733</td>\n",
       "</tr>\n",
       "<tr>\n",
       "  <th>const</th>         <td>   -1.7618</td> <td>    0.086</td> <td>  -20.458</td> <td> 0.000</td> <td>   -1.931</td> <td>   -1.593</td>\n",
       "</tr>\n",
       "</table>"
      ],
      "text/plain": [
       "<class 'statsmodels.iolib.summary.Summary'>\n",
       "\"\"\"\n",
       "                           Logit Regression Results                           \n",
       "==============================================================================\n",
       "Dep. Variable:        student_smoking   No. Observations:                 4300\n",
       "Model:                          Logit   Df Residuals:                     4297\n",
       "Method:                           MLE   Df Model:                            2\n",
       "Date:                Fri, 17 Nov 2017   Pseudo R-squ.:                0.005883\n",
       "Time:                        14:52:55   Log-Likelihood:                -2085.6\n",
       "converged:                       True   LL-Null:                       -2098.0\n",
       "                                        LLR p-value:                 4.358e-06\n",
       "=================================================================================\n",
       "                    coef    std err          z      P>|z|      [0.025      0.975]\n",
       "---------------------------------------------------------------------------------\n",
       "#_smoke_par_1     0.3212      0.105      3.062      0.002       0.116       0.527\n",
       "#_smoke_par_2     0.5230      0.107      4.886      0.000       0.313       0.733\n",
       "const            -1.7618      0.086    -20.458      0.000      -1.931      -1.593\n",
       "=================================================================================\n",
       "\"\"\""
      ]
     },
     "execution_count": 20,
     "metadata": {},
     "output_type": "execute_result"
    }
   ],
   "source": [
    "result.summary()"
   ]
  },
  {
   "cell_type": "markdown",
   "metadata": {},
   "source": [
    "<br>\n",
    "As before we touch on a few points\n",
    "\n",
    "* Our coefficients found are: $\\beta_0 \\approx -1.8$, $\\enspace \\beta_1 \\approx 0.37$, $\\enspace \\beta_2 \\approx 0.55$.\n",
    "\n",
    "\n",
    "* The baseline probability for a student to smoke without smoking parents is still $\\pi \\approx 14\\%$. \n",
    "\n",
    "\n",
    "* There is a positive correlation with having one parent smoke and a student smoking. One parent smoking raises the probability to $\\pi \\approx 19\\%$.\n",
    "\n",
    "\n",
    "* There is a positive correlation with having both parents smoke and a student smoking. Both parents smoking raises the probability to $\\pi \\approx 22\\%$.\n",
    "\n",
    "\n",
    "* Our z values are again large enough to say that our variables are statistically significant.\n",
    "\n",
    "<br>"
   ]
  },
  {
   "cell_type": "markdown",
   "metadata": {},
   "source": [
    "The expected values from the Stat 504 course are:\n",
    "\n",
    "$$\\beta_0 = -1.826 \\enspace , \\qquad \\beta_1 = 0.351 \\enspace , \\qquad \\beta_2 = 0.588 $$"
   ]
  },
  {
   "cell_type": "markdown",
   "metadata": {},
   "source": [
    "<br>\n",
    "and we can see that our coefficients are quite close to the expected values. But again, how does our model do in predicting our validation set?\n",
    "\n",
    "<br>"
   ]
  },
  {
   "cell_type": "code",
   "execution_count": 21,
   "metadata": {},
   "outputs": [
    {
     "name": "stdout",
     "output_type": "stream",
     "text": [
      "[ 0.19145394  0.22464789  0.14656772]\n"
     ]
    }
   ],
   "source": [
    "preds = result.predict(valid)\n",
    "\n",
    "print (preds.unique())"
   ]
  },
  {
   "cell_type": "code",
   "execution_count": 22,
   "metadata": {},
   "outputs": [
    {
     "data": {
      "text/html": [
       "<div>\n",
       "<style>\n",
       "    .dataframe thead tr:only-child th {\n",
       "        text-align: right;\n",
       "    }\n",
       "\n",
       "    .dataframe thead th {\n",
       "        text-align: left;\n",
       "    }\n",
       "\n",
       "    .dataframe tbody tr th {\n",
       "        vertical-align: top;\n",
       "    }\n",
       "</style>\n",
       "<table border=\"1\" class=\"dataframe\">\n",
       "  <thead>\n",
       "    <tr style=\"text-align: right;\">\n",
       "      <th></th>\n",
       "      <th>fpr</th>\n",
       "      <th>thres</th>\n",
       "      <th>tpr</th>\n",
       "    </tr>\n",
       "  </thead>\n",
       "  <tbody>\n",
       "    <tr>\n",
       "      <th>0</th>\n",
       "      <td>0.000000</td>\n",
       "      <td>1.224648</td>\n",
       "      <td>0.000000</td>\n",
       "    </tr>\n",
       "    <tr>\n",
       "      <th>1</th>\n",
       "      <td>0.312430</td>\n",
       "      <td>0.224648</td>\n",
       "      <td>0.445055</td>\n",
       "    </tr>\n",
       "    <tr>\n",
       "      <th>2</th>\n",
       "      <td>0.722284</td>\n",
       "      <td>0.191454</td>\n",
       "      <td>0.835165</td>\n",
       "    </tr>\n",
       "    <tr>\n",
       "      <th>3</th>\n",
       "      <td>1.000000</td>\n",
       "      <td>0.146568</td>\n",
       "      <td>1.000000</td>\n",
       "    </tr>\n",
       "  </tbody>\n",
       "</table>\n",
       "</div>"
      ],
      "text/plain": [
       "        fpr     thres       tpr\n",
       "0  0.000000  1.224648  0.000000\n",
       "1  0.312430  0.224648  0.445055\n",
       "2  0.722284  0.191454  0.835165\n",
       "3  1.000000  0.146568  1.000000"
      ]
     },
     "execution_count": 22,
     "metadata": {},
     "output_type": "execute_result"
    }
   ],
   "source": [
    "fpr, tpr, thres = roc_curve (valid_res, preds)\n",
    "\n",
    "rocdf = pd.DataFrame(dict(fpr=fpr, tpr=tpr, thres=thres))\n",
    "rocdf"
   ]
  },
  {
   "cell_type": "code",
   "execution_count": 23,
   "metadata": {},
   "outputs": [
    {
     "data": {
      "image/png": "[encoded data removed]",
      "text/plain": [
       "<matplotlib.figure.Figure at 0x7ff1dbdda358>"
      ]
     },
     "metadata": {},
     "output_type": "display_data"
    }
   ],
   "source": [
    "plot_roc (rocdf)"
   ]
  },
  {
   "cell_type": "markdown",
   "metadata": {},
   "source": [
    "<br>\n",
    "Again our model is not working that well although it is better than before. Likely it is still too simplistic as our model only allows for two possible threshold choices. That is, we can choose to place every student with a smoking parent into the smoking bin, or alternatively only place those with two smoking parents in the smoking bin. \n",
    "\n",
    "This classification scheme is likely too simplistic to account for the complexities of human behavior and would require additional features to increase predictive power. Some features that could potentially be included are:\n",
    "\n",
    "* Household income\n",
    "* Student grades\n",
    "* Parental employment and/or education\n",
    "* Student disciplinary history\n",
    "* Student age\n",
    "* Student friends' smoking status\n",
    "* Other parental identifiers \n",
    "\n",
    "<br>"
   ]
  },
  {
   "cell_type": "markdown",
   "metadata": {},
   "source": [
    "# Business Decisions"
   ]
  },
  {
   "cell_type": "markdown",
   "metadata": {},
   "source": [
    "So assuming we can't improve our model with new features, how would we go about using it? We have two possible thresholds to consider but which one to use is situational:\n",
    "\n",
    "1. Supposing we want to discourage student smoking in a low cost and minimal way, say by distributing an informational pamplet to all students the model classifies as smoking. In that case, we might opt for the higher TPR values (81%). As the method is low cost and not invasive, we might not care that we also give pamphlets to students who aren't currently smoking (FPR = 73%).\n",
    "<br><br>\n",
    "2. In contrast, suppose we wanted to discourage student smoking using a higher time/cost method such as scheduled counseling sessions. Just to start, this would probably be inadvisable with our current model due to the small predictive power. But supposing we went ahead anyway, we would probably opt for a method with a lower FPR (31%) since we would be concerned about wasting resources. "
   ]
  },
  {
   "cell_type": "markdown",
   "metadata": {},
   "source": [
    "# Appendix"
   ]
  },
  {
   "cell_type": "markdown",
   "metadata": {},
   "source": [
    "## Z Values"
   ]
  },
  {
   "cell_type": "markdown",
   "metadata": {},
   "source": [
    "For more on z values see the PSU [Stat 414](https://onlinecourses.science.psu.edu/stat414/node/269) course."
   ]
  },
  {
   "cell_type": "markdown",
   "metadata": {},
   "source": [
    "$$Z = \\left(\\bar{X} - \\mu\\right) \\frac{\\sqrt{N}}{\\sigma}$$"
   ]
  },
  {
   "cell_type": "markdown",
   "metadata": {},
   "source": [
    "* $\\bar{X}$ is the found mean\n",
    "* $\\mu$ is the expected mean\n",
    "* $\\sigma$ is the standard deviation\n",
    "* $N$ is the total number of samples\n",
    "\n",
    "This is to say that $Z$ is the difference between the found mean ($\\bar{X}$) and the expected mean ($\\mu$) weighted by the standard error $\\sigma / \\sqrt{N}$. So when testing a variable for significance, the found mean will be the coefficient value and $\\mu$ will be 0 (mean of a normal distribution). So the larger the coefficient is divided it's standard error, the larger it's z value."
   ]
  },
  {
   "cell_type": "markdown",
   "metadata": {},
   "source": [
    "## Resources"
   ]
  },
  {
   "cell_type": "markdown",
   "metadata": {},
   "source": [
    "* PSU [Stat 414](https://onlinecourses.science.psu.edu/stat414/node/269) course on z statistics\n",
    "* PSU [Stat 504](https://onlinecourses.science.psu.edu/stat504/node/150) course on logistic regression"
   ]
  }
 ],
 "metadata": {
  "kernelspec": {
   "display_name": "Python 3",
   "language": "python",
   "name": "python3"
  },
  "language_info": {
   "codemirror_mode": {
    "name": "ipython",
    "version": 3
   },
   "file_extension": ".py",
   "mimetype": "text/x-python",
   "name": "python",
   "nbconvert_exporter": "python",
   "pygments_lexer": "ipython3",
   "version": "3.5.2"
  },
  "varInspector": {
   "cols": {
    "lenName": 16,
    "lenType": 16,
    "lenVar": 40
   },
   "kernels_config": {
    "python": {
     "delete_cmd_postfix": "",
     "delete_cmd_prefix": "del ",
     "library": "var_list.py",
     "varRefreshCmd": "print(var_dic_list())"
    },
    "r": {
     "delete_cmd_postfix": ") ",
     "delete_cmd_prefix": "rm(",
     "library": "var_list.r",
     "varRefreshCmd": "cat(var_dic_list()) "
    }
   },
   "types_to_exclude": [
    "module",
    "function",
    "builtin_function_or_method",
    "instance",
    "_Feature"
   ],
   "window_display": false
  }
 },
 "nbformat": 4,
 "nbformat_minor": 2
}
